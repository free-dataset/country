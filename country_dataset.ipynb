{
 "cells": [
  {
   "cell_type": "markdown",
   "id": "e0975ebc",
   "metadata": {},
   "source": [
    "What datapoints are we going to collect about a country?\n",
    "- Country\n",
    "- Continent the country belongs to\n",
    "- Capital\n",
    "- Currency\n",
    "- Land Area\n",
    "- Population\n",
    "- Independence Day\n",
    "\n",
    "These are primary things we are interested in."
   ]
  },
  {
   "cell_type": "code",
   "execution_count": 1,
   "id": "ca90f4b9",
   "metadata": {},
   "outputs": [],
   "source": [
    "import requests\n",
    "import pandas as pd\n",
    "import numpy as np\n",
    "from bs4 import BeautifulSoup as bs"
   ]
  },
  {
   "cell_type": "markdown",
   "id": "14790b33",
   "metadata": {},
   "source": [
    "Let us first get the data of country and the capital"
   ]
  },
  {
   "cell_type": "code",
   "execution_count": 2,
   "id": "c0b29ef4",
   "metadata": {},
   "outputs": [],
   "source": [
    "url = 'https://en.wikipedia.org/wiki/List_of_countries_and_dependencies_and_their_capitals_in_native_languages'"
   ]
  },
  {
   "cell_type": "code",
   "execution_count": 3,
   "id": "e441d84b",
   "metadata": {},
   "outputs": [],
   "source": [
    "dfs = pd.read_html(url, encoding='utf-8')"
   ]
  },
  {
   "cell_type": "markdown",
   "id": "b161d997",
   "metadata": {},
   "source": [
    "dfs: 1-25 are useful"
   ]
  },
  {
   "cell_type": "code",
   "execution_count": 19,
   "id": "2f096c2d",
   "metadata": {},
   "outputs": [],
   "source": [
    "dfs = dfs[1:26]"
   ]
  },
  {
   "cell_type": "code",
   "execution_count": 21,
   "id": "1213251b",
   "metadata": {},
   "outputs": [],
   "source": [
    "main_df = pd.concat(dfs, join='inner', ignore_index=True)"
   ]
  },
  {
   "cell_type": "code",
   "execution_count": 22,
   "id": "c062ca57",
   "metadata": {},
   "outputs": [
    {
     "data": {
      "text/html": [
       "<div>\n",
       "<style scoped>\n",
       "    .dataframe tbody tr th:only-of-type {\n",
       "        vertical-align: middle;\n",
       "    }\n",
       "\n",
       "    .dataframe tbody tr th {\n",
       "        vertical-align: top;\n",
       "    }\n",
       "\n",
       "    .dataframe thead th {\n",
       "        text-align: right;\n",
       "    }\n",
       "</style>\n",
       "<table border=\"1\" class=\"dataframe\">\n",
       "  <thead>\n",
       "    <tr style=\"text-align: right;\">\n",
       "      <th></th>\n",
       "      <th>Country (exonym)</th>\n",
       "      <th>Capital (exonym)</th>\n",
       "      <th>Country (endonym)</th>\n",
       "      <th>Capital (endonym)</th>\n",
       "      <th>Official or native language(s) (alphabet/script)</th>\n",
       "    </tr>\n",
       "  </thead>\n",
       "  <tbody>\n",
       "    <tr>\n",
       "      <th>0</th>\n",
       "      <td>Afghanistan</td>\n",
       "      <td>Kabul</td>\n",
       "      <td>Afghanestanافغانستان</td>\n",
       "      <td>Kabulكابل</td>\n",
       "      <td>Pashto/Dari(Arabic script)</td>\n",
       "    </tr>\n",
       "    <tr>\n",
       "      <th>1</th>\n",
       "      <td>Albania</td>\n",
       "      <td>Tirana</td>\n",
       "      <td>Shqipëria</td>\n",
       "      <td>Tirana</td>\n",
       "      <td>Albanian</td>\n",
       "    </tr>\n",
       "    <tr>\n",
       "      <th>2</th>\n",
       "      <td>Algeria</td>\n",
       "      <td>Algiers</td>\n",
       "      <td>DzayerⴷⵣⴰⵢⴻⵔAl-Jazā'irالجزائر</td>\n",
       "      <td>DzayerⴷⵣⴰⵢⴻⵔAl-Jazā'irالجزائر</td>\n",
       "      <td>Berber language(Tifinagh script)Arabic(Arabic ...</td>\n",
       "    </tr>\n",
       "    <tr>\n",
       "      <th>3</th>\n",
       "      <td>American Samoa[1]</td>\n",
       "      <td>Pago Pago</td>\n",
       "      <td>Amerika SāmoaAmerican Samoa</td>\n",
       "      <td>Pago Pago Pago Pago</td>\n",
       "      <td>SamoanEnglish</td>\n",
       "    </tr>\n",
       "    <tr>\n",
       "      <th>4</th>\n",
       "      <td>Andorra</td>\n",
       "      <td>Andorra la Vella</td>\n",
       "      <td>Andorra</td>\n",
       "      <td>Andorra la Vella</td>\n",
       "      <td>Catalan</td>\n",
       "    </tr>\n",
       "    <tr>\n",
       "      <th>...</th>\n",
       "      <td>...</td>\n",
       "      <td>...</td>\n",
       "      <td>...</td>\n",
       "      <td>...</td>\n",
       "      <td>...</td>\n",
       "    </tr>\n",
       "    <tr>\n",
       "      <th>237</th>\n",
       "      <td>Vietnam</td>\n",
       "      <td>Hanoi</td>\n",
       "      <td>Việt Nam</td>\n",
       "      <td>Hà Nội</td>\n",
       "      <td>Vietnamese</td>\n",
       "    </tr>\n",
       "    <tr>\n",
       "      <th>238</th>\n",
       "      <td>Wallis and Futuna[10]</td>\n",
       "      <td>Mata Utu</td>\n",
       "      <td>Wallis-et-FutunaʻUvea mo Futuna</td>\n",
       "      <td>Mata Utu Matāʻutu</td>\n",
       "      <td>FrenchWallisianFutunan</td>\n",
       "    </tr>\n",
       "    <tr>\n",
       "      <th>239</th>\n",
       "      <td>Yemen</td>\n",
       "      <td>Sana'a</td>\n",
       "      <td>Al-Yamanاليمن</td>\n",
       "      <td>Ṣan‘ā’ﺻﻨﻌﺎﺀ</td>\n",
       "      <td>Arabic(Arabic script)</td>\n",
       "    </tr>\n",
       "    <tr>\n",
       "      <th>240</th>\n",
       "      <td>Zambia</td>\n",
       "      <td>Lusaka</td>\n",
       "      <td>Zambia</td>\n",
       "      <td>Lusaka</td>\n",
       "      <td>English, Bemba, Chewa</td>\n",
       "    </tr>\n",
       "    <tr>\n",
       "      <th>241</th>\n",
       "      <td>Zimbabwe</td>\n",
       "      <td>Harare</td>\n",
       "      <td>Zimbabwe</td>\n",
       "      <td>Harare</td>\n",
       "      <td>English, Shona</td>\n",
       "    </tr>\n",
       "  </tbody>\n",
       "</table>\n",
       "<p>242 rows × 5 columns</p>\n",
       "</div>"
      ],
      "text/plain": [
       "          Country (exonym)  Capital (exonym)                Country (endonym)  \\\n",
       "0              Afghanistan             Kabul             Afghanestanافغانستان   \n",
       "1                  Albania            Tirana                        Shqipëria   \n",
       "2                  Algeria           Algiers    DzayerⴷⵣⴰⵢⴻⵔAl-Jazā'irالجزائر   \n",
       "3        American Samoa[1]         Pago Pago      Amerika SāmoaAmerican Samoa   \n",
       "4                  Andorra  Andorra la Vella                          Andorra   \n",
       "..                     ...               ...                              ...   \n",
       "237                Vietnam             Hanoi                         Việt Nam   \n",
       "238  Wallis and Futuna[10]          Mata Utu  Wallis-et-FutunaʻUvea mo Futuna   \n",
       "239                  Yemen            Sana'a                    Al-Yamanاليمن   \n",
       "240                 Zambia            Lusaka                           Zambia   \n",
       "241               Zimbabwe            Harare                         Zimbabwe   \n",
       "\n",
       "                 Capital (endonym)  \\\n",
       "0                        Kabulكابل   \n",
       "1                           Tirana   \n",
       "2    DzayerⴷⵣⴰⵢⴻⵔAl-Jazā'irالجزائر   \n",
       "3              Pago Pago Pago Pago   \n",
       "4                 Andorra la Vella   \n",
       "..                             ...   \n",
       "237                         Hà Nội   \n",
       "238              Mata Utu Matāʻutu   \n",
       "239                    Ṣan‘ā’ﺻﻨﻌﺎﺀ   \n",
       "240                         Lusaka   \n",
       "241                         Harare   \n",
       "\n",
       "      Official or native language(s) (alphabet/script)  \n",
       "0                           Pashto/Dari(Arabic script)  \n",
       "1                                             Albanian  \n",
       "2    Berber language(Tifinagh script)Arabic(Arabic ...  \n",
       "3                                        SamoanEnglish  \n",
       "4                                              Catalan  \n",
       "..                                                 ...  \n",
       "237                                         Vietnamese  \n",
       "238                             FrenchWallisianFutunan  \n",
       "239                              Arabic(Arabic script)  \n",
       "240                              English, Bemba, Chewa  \n",
       "241                                     English, Shona  \n",
       "\n",
       "[242 rows x 5 columns]"
      ]
     },
     "execution_count": 22,
     "metadata": {},
     "output_type": "execute_result"
    }
   ],
   "source": [
    "main_df"
   ]
  },
  {
   "cell_type": "markdown",
   "id": "e54e6323",
   "metadata": {},
   "source": [
    "Let us just focus on the first two columns"
   ]
  },
  {
   "cell_type": "code",
   "execution_count": 25,
   "id": "c7af72c2",
   "metadata": {},
   "outputs": [],
   "source": [
    "data = main_df.iloc[:, :2]"
   ]
  },
  {
   "cell_type": "code",
   "execution_count": 27,
   "id": "4b2921ab",
   "metadata": {},
   "outputs": [
    {
     "data": {
      "text/html": [
       "<div>\n",
       "<style scoped>\n",
       "    .dataframe tbody tr th:only-of-type {\n",
       "        vertical-align: middle;\n",
       "    }\n",
       "\n",
       "    .dataframe tbody tr th {\n",
       "        vertical-align: top;\n",
       "    }\n",
       "\n",
       "    .dataframe thead th {\n",
       "        text-align: right;\n",
       "    }\n",
       "</style>\n",
       "<table border=\"1\" class=\"dataframe\">\n",
       "  <thead>\n",
       "    <tr style=\"text-align: right;\">\n",
       "      <th></th>\n",
       "      <th>Country (exonym)</th>\n",
       "      <th>Capital (exonym)</th>\n",
       "    </tr>\n",
       "  </thead>\n",
       "  <tbody>\n",
       "    <tr>\n",
       "      <th>0</th>\n",
       "      <td>Afghanistan</td>\n",
       "      <td>Kabul</td>\n",
       "    </tr>\n",
       "    <tr>\n",
       "      <th>1</th>\n",
       "      <td>Albania</td>\n",
       "      <td>Tirana</td>\n",
       "    </tr>\n",
       "    <tr>\n",
       "      <th>2</th>\n",
       "      <td>Algeria</td>\n",
       "      <td>Algiers</td>\n",
       "    </tr>\n",
       "    <tr>\n",
       "      <th>3</th>\n",
       "      <td>American Samoa[1]</td>\n",
       "      <td>Pago Pago</td>\n",
       "    </tr>\n",
       "    <tr>\n",
       "      <th>4</th>\n",
       "      <td>Andorra</td>\n",
       "      <td>Andorra la Vella</td>\n",
       "    </tr>\n",
       "  </tbody>\n",
       "</table>\n",
       "</div>"
      ],
      "text/plain": [
       "    Country (exonym)  Capital (exonym)\n",
       "0        Afghanistan             Kabul\n",
       "1            Albania            Tirana\n",
       "2            Algeria           Algiers\n",
       "3  American Samoa[1]         Pago Pago\n",
       "4            Andorra  Andorra la Vella"
      ]
     },
     "execution_count": 27,
     "metadata": {},
     "output_type": "execute_result"
    }
   ],
   "source": [
    "data.head()"
   ]
  },
  {
   "cell_type": "markdown",
   "id": "d3050aef",
   "metadata": {},
   "source": [
    "Let us clean the column names now"
   ]
  },
  {
   "cell_type": "code",
   "execution_count": 29,
   "id": "1e3a27ed",
   "metadata": {},
   "outputs": [],
   "source": [
    "data.columns = ['country', 'capital']"
   ]
  },
  {
   "cell_type": "code",
   "execution_count": 30,
   "id": "359d733c",
   "metadata": {},
   "outputs": [
    {
     "data": {
      "text/html": [
       "<div>\n",
       "<style scoped>\n",
       "    .dataframe tbody tr th:only-of-type {\n",
       "        vertical-align: middle;\n",
       "    }\n",
       "\n",
       "    .dataframe tbody tr th {\n",
       "        vertical-align: top;\n",
       "    }\n",
       "\n",
       "    .dataframe thead th {\n",
       "        text-align: right;\n",
       "    }\n",
       "</style>\n",
       "<table border=\"1\" class=\"dataframe\">\n",
       "  <thead>\n",
       "    <tr style=\"text-align: right;\">\n",
       "      <th></th>\n",
       "      <th>country</th>\n",
       "      <th>capital</th>\n",
       "    </tr>\n",
       "  </thead>\n",
       "  <tbody>\n",
       "    <tr>\n",
       "      <th>0</th>\n",
       "      <td>Afghanistan</td>\n",
       "      <td>Kabul</td>\n",
       "    </tr>\n",
       "    <tr>\n",
       "      <th>1</th>\n",
       "      <td>Albania</td>\n",
       "      <td>Tirana</td>\n",
       "    </tr>\n",
       "    <tr>\n",
       "      <th>2</th>\n",
       "      <td>Algeria</td>\n",
       "      <td>Algiers</td>\n",
       "    </tr>\n",
       "    <tr>\n",
       "      <th>3</th>\n",
       "      <td>American Samoa[1]</td>\n",
       "      <td>Pago Pago</td>\n",
       "    </tr>\n",
       "    <tr>\n",
       "      <th>4</th>\n",
       "      <td>Andorra</td>\n",
       "      <td>Andorra la Vella</td>\n",
       "    </tr>\n",
       "    <tr>\n",
       "      <th>...</th>\n",
       "      <td>...</td>\n",
       "      <td>...</td>\n",
       "    </tr>\n",
       "    <tr>\n",
       "      <th>237</th>\n",
       "      <td>Vietnam</td>\n",
       "      <td>Hanoi</td>\n",
       "    </tr>\n",
       "    <tr>\n",
       "      <th>238</th>\n",
       "      <td>Wallis and Futuna[10]</td>\n",
       "      <td>Mata Utu</td>\n",
       "    </tr>\n",
       "    <tr>\n",
       "      <th>239</th>\n",
       "      <td>Yemen</td>\n",
       "      <td>Sana'a</td>\n",
       "    </tr>\n",
       "    <tr>\n",
       "      <th>240</th>\n",
       "      <td>Zambia</td>\n",
       "      <td>Lusaka</td>\n",
       "    </tr>\n",
       "    <tr>\n",
       "      <th>241</th>\n",
       "      <td>Zimbabwe</td>\n",
       "      <td>Harare</td>\n",
       "    </tr>\n",
       "  </tbody>\n",
       "</table>\n",
       "<p>242 rows × 2 columns</p>\n",
       "</div>"
      ],
      "text/plain": [
       "                   country           capital\n",
       "0              Afghanistan             Kabul\n",
       "1                  Albania            Tirana\n",
       "2                  Algeria           Algiers\n",
       "3        American Samoa[1]         Pago Pago\n",
       "4                  Andorra  Andorra la Vella\n",
       "..                     ...               ...\n",
       "237                Vietnam             Hanoi\n",
       "238  Wallis and Futuna[10]          Mata Utu\n",
       "239                  Yemen            Sana'a\n",
       "240                 Zambia            Lusaka\n",
       "241               Zimbabwe            Harare\n",
       "\n",
       "[242 rows x 2 columns]"
      ]
     },
     "execution_count": 30,
     "metadata": {},
     "output_type": "execute_result"
    }
   ],
   "source": [
    "data"
   ]
  },
  {
   "cell_type": "markdown",
   "id": "d2423559",
   "metadata": {},
   "source": [
    "There are rows where we have [1] type things, we need to clean it up."
   ]
  },
  {
   "cell_type": "code",
   "execution_count": 77,
   "id": "605d8851",
   "metadata": {},
   "outputs": [],
   "source": [
    "import string\n",
    "\n",
    "def clean_name(s: str) -> str:\n",
    "    if not isinstance(s, str):\n",
    "        return s\n",
    "    t = ''\n",
    "    for c in s:\n",
    "        if (c not in string.ascii_letters) and (c not in [\"'\", '\"', ',', ' ']):\n",
    "            continue\n",
    "        t += c\n",
    "    return t "
   ]
  },
  {
   "cell_type": "code",
   "execution_count": 78,
   "id": "5663e776",
   "metadata": {},
   "outputs": [
    {
     "data": {
      "text/plain": [
       "'Afghanistan'"
      ]
     },
     "execution_count": 78,
     "metadata": {},
     "output_type": "execute_result"
    }
   ],
   "source": [
    "clean_name('Afghanistan')"
   ]
  },
  {
   "cell_type": "code",
   "execution_count": 80,
   "id": "b780d783",
   "metadata": {},
   "outputs": [
    {
     "name": "stderr",
     "output_type": "stream",
     "text": [
      "/home/bruhh/.local/lib/python3.6/site-packages/ipykernel_launcher.py:1: SettingWithCopyWarning: \n",
      "A value is trying to be set on a copy of a slice from a DataFrame.\n",
      "Try using .loc[row_indexer,col_indexer] = value instead\n",
      "\n",
      "See the caveats in the documentation: https://pandas.pydata.org/pandas-docs/stable/user_guide/indexing.html#returning-a-view-versus-a-copy\n",
      "  \"\"\"Entry point for launching an IPython kernel.\n",
      "/home/bruhh/.local/lib/python3.6/site-packages/ipykernel_launcher.py:2: SettingWithCopyWarning: \n",
      "A value is trying to be set on a copy of a slice from a DataFrame.\n",
      "Try using .loc[row_indexer,col_indexer] = value instead\n",
      "\n",
      "See the caveats in the documentation: https://pandas.pydata.org/pandas-docs/stable/user_guide/indexing.html#returning-a-view-versus-a-copy\n",
      "  \n"
     ]
    }
   ],
   "source": [
    "data['country'] = data['country'].apply(clean_name)\n",
    "data['capital'] = data['capital'].apply(clean_name)"
   ]
  },
  {
   "cell_type": "markdown",
   "id": "3f6f3cba",
   "metadata": {},
   "source": [
    "Maybe that was slow. But cool we got it done. Now onto next step. Finding the continent it belongs to."
   ]
  },
  {
   "cell_type": "markdown",
   "id": "5291350c",
   "metadata": {},
   "source": [
    "data.to_csv"
   ]
  }
 ],
 "metadata": {
  "kernelspec": {
   "display_name": "Python 3",
   "language": "python",
   "name": "python3"
  },
  "language_info": {
   "codemirror_mode": {
    "name": "ipython",
    "version": 3
   },
   "file_extension": ".py",
   "mimetype": "text/x-python",
   "name": "python",
   "nbconvert_exporter": "python",
   "pygments_lexer": "ipython3",
   "version": "3.6.9"
  }
 },
 "nbformat": 4,
 "nbformat_minor": 5
}
